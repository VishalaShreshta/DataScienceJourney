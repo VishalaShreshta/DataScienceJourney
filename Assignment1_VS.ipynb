{
 "cells": [
  {
   "cell_type": "code",
   "execution_count": 7,
   "id": "81201ddd-e66f-480a-a03c-85a81ecaeb78",
   "metadata": {},
   "outputs": [
    {
     "name": "stdout",
     "output_type": "stream",
     "text": [
      "Loving Python\n",
      "[7, 27.05, True, 'Hello', (2+5j)]\n",
      "57.05\n",
      "(10, 10, 20, 'data', 'engineer', 'analyst', 45, True)\n"
     ]
    }
   ],
   "source": [
    "''' Q1. Create one variable containing following type of data:\n",
    "(i) string\n",
    "(ii) list\n",
    "(iii) float\n",
    "(iv) tuple '''\n",
    "\n",
    "str1 = \"Loving Python\"\n",
    "print(str1)\n",
    "\n",
    "list1 = [7,27.05,True,\"Hello\", 2+5j]\n",
    "print(list1)\n",
    "\n",
    "flt_num = 57.05\n",
    "print(flt_num)\n",
    "\n",
    "tupl = (10, 10,20,\"data\",\"engineer\",\"analyst\",45,True)\n",
    "print(tupl)\n",
    "         \n"
   ]
  },
  {
   "cell_type": "code",
   "execution_count": 18,
   "id": "caab4231-a7e9-4b9a-8435-698037ca12a6",
   "metadata": {},
   "outputs": [
    {
     "data": {
      "text/plain": [
       "'Q2. Given are some following variables containing data:\\n(i) var1 = ‘ ‘\\n(ii) var2 = ‘[ DS , ML , Python]’\\n(iii) var3 = [ ‘DS’ , ’ML’ , ‘Python’ ]\\n(iv) var4 = 1.\\nWhat will be the data type of the above given variable.'"
      ]
     },
     "execution_count": 18,
     "metadata": {},
     "output_type": "execute_result"
    }
   ],
   "source": [
    "'''Q2. Given are some following variables containing data:\n",
    "(i) var1 = ‘ ‘\n",
    "(ii) var2 = ‘[ DS , ML , Python]’\n",
    "(iii) var3 = [ ‘DS’ , ’ML’ , ‘Python’ ]\n",
    "(iv) var4 = 1.\n",
    "What will be the data type of the above given variable.'''\n"
   ]
  },
  {
   "cell_type": "code",
   "execution_count": 19,
   "id": "b8a63701-c0ab-498c-b45b-48ff51a8fb25",
   "metadata": {},
   "outputs": [
    {
     "data": {
      "text/plain": [
       "str"
      ]
     },
     "execution_count": 19,
     "metadata": {},
     "output_type": "execute_result"
    }
   ],
   "source": [
    "var1 = ' '\n",
    "type(var1)"
   ]
  },
  {
   "cell_type": "code",
   "execution_count": 20,
   "id": "746a6917-00ed-4cc0-bb8a-4d878bf0fb3c",
   "metadata": {},
   "outputs": [
    {
     "data": {
      "text/plain": [
       "str"
      ]
     },
     "execution_count": 20,
     "metadata": {},
     "output_type": "execute_result"
    }
   ],
   "source": [
    "var2 = '[ DS , ML , Python]'\n",
    "type(var2)"
   ]
  },
  {
   "cell_type": "code",
   "execution_count": 21,
   "id": "028eb5f4-8054-4783-ba18-c544fdcccd1d",
   "metadata": {},
   "outputs": [
    {
     "data": {
      "text/plain": [
       "list"
      ]
     },
     "execution_count": 21,
     "metadata": {},
     "output_type": "execute_result"
    }
   ],
   "source": [
    "var3 = [ 'DS' , 'ML' , 'Python' ]\n",
    "type(var3)"
   ]
  },
  {
   "cell_type": "code",
   "execution_count": 22,
   "id": "a1f81dcf-df01-40da-9830-042b1565ec74",
   "metadata": {},
   "outputs": [
    {
     "data": {
      "text/plain": [
       "float"
      ]
     },
     "execution_count": 22,
     "metadata": {},
     "output_type": "execute_result"
    }
   ],
   "source": [
    "var4 = 1.\n",
    "type(var4)"
   ]
  },
  {
   "cell_type": "code",
   "execution_count": null,
   "id": "e538e442-8e30-45e0-a482-156564833308",
   "metadata": {},
   "outputs": [],
   "source": [
    "'''\n",
    "Q3. Explain the use of the following operators using an example:\n",
    "(i) /\n",
    "(ii) %\n",
    "(iii) //\n",
    "(iv) **\n",
    "'''"
   ]
  },
  {
   "cell_type": "code",
   "execution_count": 27,
   "id": "0be3d056-fd38-4b93-917c-491749159e74",
   "metadata": {},
   "outputs": [
    {
     "name": "stdout",
     "output_type": "stream",
     "text": [
      "4.333333333333333\n"
     ]
    }
   ],
   "source": [
    "# (i) / - Division\n",
    "print(13/3)\n"
   ]
  },
  {
   "cell_type": "code",
   "execution_count": 24,
   "id": "356d49be-ddd1-46d8-a370-a6cfd8db0f71",
   "metadata": {},
   "outputs": [
    {
     "name": "stdout",
     "output_type": "stream",
     "text": [
      "1\n"
     ]
    }
   ],
   "source": [
    "#  % - Modular\n",
    "print(10 % 3)"
   ]
  },
  {
   "cell_type": "code",
   "execution_count": 28,
   "id": "10dc51d8-b683-4660-ab7c-b0dbbeb3d940",
   "metadata": {},
   "outputs": [
    {
     "name": "stdout",
     "output_type": "stream",
     "text": [
      "2\n"
     ]
    }
   ],
   "source": [
    "# // - floor division\n",
    "print (13//5)"
   ]
  },
  {
   "cell_type": "code",
   "execution_count": 26,
   "id": "976263ec-5592-4d1d-9c96-6b060279da39",
   "metadata": {},
   "outputs": [
    {
     "name": "stdout",
     "output_type": "stream",
     "text": [
      "8\n"
     ]
    }
   ],
   "source": [
    "# ** - Exponential\n",
    "print (2 ** 3)"
   ]
  },
  {
   "cell_type": "code",
   "execution_count": 1,
   "id": "958ba387-c067-42cd-85a1-c1b054d3189c",
   "metadata": {},
   "outputs": [
    {
     "name": "stdout",
     "output_type": "stream",
     "text": [
      "item is 2 and type is:  <class 'int'>\n",
      "item is True and type is:  <class 'bool'>\n",
      "item is 4.05 and type is:  <class 'float'>\n",
      "item is solving and type is:  <class 'str'>\n",
      "item is (3+3j) and type is:  <class 'complex'>\n",
      "item is assignment and type is:  <class 'str'>\n",
      "item is 100 and type is:  <class 'int'>\n",
      "item is (2+70j) and type is:  <class 'complex'>\n",
      "item is False and type is:  <class 'bool'>\n",
      "item is 115.4 and type is:  <class 'float'>\n"
     ]
    }
   ],
   "source": [
    "''' Q4. Create a list of length 10 of your choice containing multiple types of data. Using for loop print the\n",
    "element and its data type. '''\n",
    "\n",
    "list2 = [ 2,True,4.05,\"solving\",3+3j,\"assignment\",100,2+70j,False,115.4]\n",
    "\n",
    "for item in list2:\n",
    "    print(\"item is {}\".format(item), \"and type is: \", type(item))\n",
    "  "
   ]
  },
  {
   "cell_type": "code",
   "execution_count": 4,
   "id": "6f50be8a-3d9e-45a6-9839-9a6ab233c4fb",
   "metadata": {},
   "outputs": [
    {
     "name": "stdout",
     "output_type": "stream",
     "text": [
      "A is divisible by B by 15.0 times\n"
     ]
    }
   ],
   "source": [
    "''' Q5. Using a while loop, verify if the number A is purely divisible by number B and if so then how many\n",
    "times it can be divisible.\n",
    "'''\n",
    "\n",
    "A = 45\n",
    "B = 3\n",
    "\n",
    "while A%B == 0:\n",
    "    print(\"A is divisible by B by\", A/B, \"times\")\n",
    "    break\n",
    "else:\n",
    "    print(\"A is not divisible by B\")"
   ]
  },
  {
   "cell_type": "code",
   "execution_count": null,
   "id": "cd67ca4a-0126-4fd5-9e76-efa322030b1f",
   "metadata": {},
   "outputs": [],
   "source": [
    "''' Q5. Using a while loop, verify if the number A is purely divisible by number B and if so then how many\n",
    "times it can be divisible.\n",
    "'''\n",
    "\n",
    "A = 45\n",
    "B = 3\n",
    "\n",
    "while A%B == 0:\n",
    "    print(\"A is divisible by B\")\n",
    "else:\n",
    "    print(\"A is not divisible by B\")"
   ]
  },
  {
   "cell_type": "code",
   "execution_count": 6,
   "id": "6ce63e9b-579f-47f0-98a0-b0ea4d950f20",
   "metadata": {},
   "outputs": [
    {
     "name": "stdout",
     "output_type": "stream",
     "text": [
      "range(0, 25)\n",
      "0 is divisible by 3 and value is: 0.0\n",
      "1 is not divisible by 3\n",
      "2 is not divisible by 3\n",
      "3 is divisible by 3 and value is: 1.0\n",
      "4 is not divisible by 3\n",
      "5 is not divisible by 3\n",
      "6 is divisible by 3 and value is: 2.0\n",
      "7 is not divisible by 3\n",
      "8 is not divisible by 3\n",
      "9 is divisible by 3 and value is: 3.0\n",
      "10 is not divisible by 3\n",
      "11 is not divisible by 3\n",
      "12 is divisible by 3 and value is: 4.0\n",
      "13 is not divisible by 3\n",
      "14 is not divisible by 3\n",
      "15 is divisible by 3 and value is: 5.0\n",
      "16 is not divisible by 3\n",
      "17 is not divisible by 3\n",
      "18 is divisible by 3 and value is: 6.0\n",
      "19 is not divisible by 3\n",
      "20 is not divisible by 3\n",
      "21 is divisible by 3 and value is: 7.0\n",
      "22 is not divisible by 3\n",
      "23 is not divisible by 3\n",
      "24 is divisible by 3 and value is: 8.0\n"
     ]
    }
   ],
   "source": [
    "''' Q6. Create a list containing 25 int type data. Using for loop and if-else condition print if the element is\n",
    "divisible by 3 or not. '''\n",
    "\n",
    "list3 = range(25)\n",
    "print(list3)\n",
    "\n",
    "for i in list3:\n",
    "\n",
    "    if i%3 == 0:\n",
    "        print(i,\"is divisible by 3 and value is:\",i/3)\n",
    "    else:\n",
    "        print(i,\"is not divisible by 3\")\n",
    "      \n",
    "    i = i + 1\n",
    "    \n",
    "       "
   ]
  },
  {
   "cell_type": "code",
   "execution_count": 5,
   "id": "313f9183-f6c0-432c-b679-5dc4d739c635",
   "metadata": {},
   "outputs": [
    {
     "name": "stdout",
     "output_type": "stream",
     "text": [
      "['a', 's', 'h', 'a']\n"
     ]
    }
   ],
   "source": [
    "'''\n",
    "Q7. What do you understand about mutable and immutable data types? Give examples for both showing\n",
    "this property.\n",
    "'''\n",
    "\n",
    "#list data structure is mutable, we can change the value of the list\n",
    "list4 = ['u','s','h','a']\n",
    "list4[0] = 'a'\n",
    "print(list4)\n"
   ]
  },
  {
   "cell_type": "code",
   "execution_count": 7,
   "id": "cb67f70f-f0e6-45b1-82e9-3e11d3c966b6",
   "metadata": {},
   "outputs": [
    {
     "ename": "TypeError",
     "evalue": "'str' object does not support item assignment",
     "output_type": "error",
     "traceback": [
      "\u001b[0;31m---------------------------------------------------------------------------\u001b[0m",
      "\u001b[0;31mTypeError\u001b[0m                                 Traceback (most recent call last)",
      "Cell \u001b[0;32mIn[7], line 4\u001b[0m\n\u001b[1;32m      1\u001b[0m \u001b[38;5;66;03m# string, tuples are immutable, we can't change the value.\u001b[39;00m\n\u001b[1;32m      2\u001b[0m str1 \u001b[38;5;241m=\u001b[39m \u001b[38;5;124m'\u001b[39m\u001b[38;5;124masha\u001b[39m\u001b[38;5;124m'\u001b[39m\n\u001b[0;32m----> 4\u001b[0m \u001b[43mstr1\u001b[49m\u001b[43m[\u001b[49m\u001b[38;5;241;43m0\u001b[39;49m\u001b[43m]\u001b[49m\u001b[38;5;241m=\u001b[39m\u001b[38;5;124m'\u001b[39m\u001b[38;5;124mu\u001b[39m\u001b[38;5;124m'\u001b[39m\n\u001b[1;32m      5\u001b[0m \u001b[38;5;28mprint\u001b[39m(str1)\n",
      "\u001b[0;31mTypeError\u001b[0m: 'str' object does not support item assignment"
     ]
    }
   ],
   "source": [
    "\n",
    "# string, tuples are immutable, we can't change the value.\n",
    "str1 = 'asha'\n",
    "\n",
    "str1[0]='u'\n",
    "print(str1)"
   ]
  },
  {
   "cell_type": "code",
   "execution_count": null,
   "id": "72e2e698-1c59-45d9-ad88-440b9e0f87e4",
   "metadata": {},
   "outputs": [],
   "source": []
  }
 ],
 "metadata": {
  "kernelspec": {
   "display_name": "Python 3 (ipykernel)",
   "language": "python",
   "name": "python3"
  },
  "language_info": {
   "codemirror_mode": {
    "name": "ipython",
    "version": 3
   },
   "file_extension": ".py",
   "mimetype": "text/x-python",
   "name": "python",
   "nbconvert_exporter": "python",
   "pygments_lexer": "ipython3",
   "version": "3.10.8"
  }
 },
 "nbformat": 4,
 "nbformat_minor": 5
}
